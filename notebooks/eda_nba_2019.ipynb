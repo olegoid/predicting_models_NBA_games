{
 "cells": [
  {
   "cell_type": "markdown",
   "metadata": {},
   "source": [
    "## Exploratory Data Analysis for NBA 2019 league"
   ]
  },
  {
   "cell_type": "code",
   "execution_count": 14,
   "metadata": {},
   "outputs": [],
   "source": [
    "import pandas as pd\n",
    "import numpy as np\n",
    "import seaborn as sns\n",
    "import matplotlib.pyplot as plt"
   ]
  },
  {
   "cell_type": "code",
   "execution_count": 15,
   "metadata": {},
   "outputs": [
    {
     "data": {
      "text/plain": [
       "(529, 28)"
      ]
     },
     "execution_count": 15,
     "metadata": {},
     "output_type": "execute_result"
    }
   ],
   "source": [
    "# read dataset\n",
    "df = pd.read_csv('https://raw.githubusercontent.com/olegoid/predicting_models_NBA_games/codespace-0eb1/data/2019_advanced.csv')\n",
    "df.shape"
   ]
  },
  {
   "cell_type": "code",
   "execution_count": 16,
   "metadata": {},
   "outputs": [
    {
     "data": {
      "text/plain": [
       "Player     object\n",
       "Pos        object\n",
       "Age         int64\n",
       "Tm         object\n",
       "G           int64\n",
       "MP          int64\n",
       "PER       float64\n",
       "TS%       float64\n",
       "3PAr      float64\n",
       "FTr       float64\n",
       "ORB%      float64\n",
       "DRB%      float64\n",
       "TRB%      float64\n",
       "AST%      float64\n",
       "STL%      float64\n",
       "BLK%      float64\n",
       "TOV%      float64\n",
       "USG%      float64\n",
       "          float64\n",
       "OWS       float64\n",
       "DWS       float64\n",
       "WS        float64\n",
       "WS/48     float64\n",
       " .1       float64\n",
       "OBPM      float64\n",
       "DBPM      float64\n",
       "BPM       float64\n",
       "VORP      float64\n",
       "dtype: object"
      ]
     },
     "execution_count": 16,
     "metadata": {},
     "output_type": "execute_result"
    }
   ],
   "source": [
    "\n",
    "df.dtypes"
   ]
  },
  {
   "cell_type": "code",
   "execution_count": 17,
   "metadata": {},
   "outputs": [
    {
     "data": {
      "text/plain": [
       "Player      object\n",
       "Pos       category\n",
       "Age          int64\n",
       "Tm        category\n",
       "G            int64\n",
       "MP           int64\n",
       "PER        float64\n",
       "TS%        float64\n",
       "3PAr       float64\n",
       "FTr        float64\n",
       "ORB%       float64\n",
       "DRB%       float64\n",
       "TRB%       float64\n",
       "AST%       float64\n",
       "STL%       float64\n",
       "BLK%       float64\n",
       "TOV%       float64\n",
       "USG%       float64\n",
       "OWS        float64\n",
       "DWS        float64\n",
       "WS         float64\n",
       "WS/48      float64\n",
       "OBPM       float64\n",
       "DBPM       float64\n",
       "BPM        float64\n",
       "VORP       float64\n",
       "dtype: object"
      ]
     },
     "execution_count": 17,
     "metadata": {},
     "output_type": "execute_result"
    }
   ],
   "source": [
    "df['Pos'] = df['Pos'].astype('category')\n",
    "df['Tm'] = df['Tm'].astype('category')\n",
    "\n",
    "df = df.drop(df.columns[[23, 18]],axis = 1)\n",
    "df.dtypes"
   ]
  }
 ],
 "metadata": {
  "kernelspec": {
   "display_name": "Python 3.10.7 64-bit",
   "language": "python",
   "name": "python3"
  },
  "language_info": {
   "codemirror_mode": {
    "name": "ipython",
    "version": 3
   },
   "file_extension": ".py",
   "mimetype": "text/x-python",
   "name": "python",
   "nbconvert_exporter": "python",
   "pygments_lexer": "ipython3",
   "version": "3.10.7"
  },
  "orig_nbformat": 4,
  "vscode": {
   "interpreter": {
    "hash": "eb4a0ac80907d7f44e1a5e88d3d3381b33e3dbedd3a24d113e876f30a0c46bee"
   }
  }
 },
 "nbformat": 4,
 "nbformat_minor": 2
}
